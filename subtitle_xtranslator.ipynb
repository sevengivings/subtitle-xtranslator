{
  "cells": [
    {
      "cell_type": "code",
      "execution_count": null,
      "metadata": {
        "id": "UqGVk-PpdW6B"
      },
      "outputs": [],
      "source": [
        "#@title Check GPU setup before run. If it fails, change the type of runtime to T4 GPU(코랩의 런타입을 GPU로 설정 필요)\n",
        "!nvidia-smi"
      ]
    },
    {
      "cell_type": "code",
      "execution_count": null,
      "metadata": {
        "id": "KMX-Hl_GiAnd"
      },
      "outputs": [],
      "source": [
        "#@title Install codes(코드 복사)\n",
        "!git clone https://github.com/sevengivings/subtitle-xtranslator.git\n",
        "%cd subtitle-xtranslator\n"
      ]
    },
    {
      "cell_type": "code",
      "execution_count": null,
      "metadata": {
        "id": "hsxJaDNEiyx2"
      },
      "outputs": [],
      "source": [
        "#@title Install required components(소스코드 및 필요한 파이썬 패키지 설치)\n",
        "!pip install -r requirements.txt"
      ]
    },
    {
      "cell_type": "code",
      "execution_count": null,
      "metadata": {
        "id": "tpqbsYvwedx8"
      },
      "outputs": [],
      "source": [
        "#@title Check torch and CUDA(토치 버전 체크)\n",
        "import torch\n",
        "print(torch.__version__)"
      ]
    },
    {
      "cell_type": "code",
      "execution_count": null,
      "metadata": {
        "id": "inzh5IS0bn9r"
      },
      "outputs": [],
      "source": [
        "#@title Set command arguments for subtitle-xtranslator.py(인자 설정)\n",
        "framework = 'stable-ts' # @param [\"stable-ts\", \"whisper\", \"faster-whisper\"]\n",
        "model = 'medium' # @param [\"small\", \"medium\", \"large-v2\", \"large-v3\"]\n",
        "device = 'cuda' # @param [\"cuda\", \"cpu\"]\n",
        "audio_language = 'ko' # @param [\"ko\", \"ja\", \"en\", \"fr\"]\n",
        "subtitle_language = 'ko' # @param [\"ko\", \"ja\", \"en\", \"fr\"]\n",
        "translator = 'none' # @param [\"deepl-api\", \"none\"]\n",
        "\n",
        "#@title Select framework, model, device, audio_language, subtitle_language, translator and etc.(필요한 인자 설정)\n",
        "arguments = f\"--framework {framework} --model {model} --device {device} --audio_language {audio_language} --subtitle_language {subtitle_language}\"\n",
        "if translator != \"none\":\n",
        "  arguments += f\" --translator {translator}\"\n",
        "\n",
        "print(arguments)"
      ]
    },
    {
      "cell_type": "code",
      "execution_count": null,
      "metadata": {
        "id": "Ni3RMmCRa1Vh"
      },
      "outputs": [],
      "source": [
        "#@title Enter DeepL-API key(DeepL API 개발자 계정)\n",
        "DEEPL_API_KEY = '' #@param {type: \"string\"}\n",
        "\n",
        "import os\n",
        "os.environ['DEEPL_API_KEY'] = DEEPL_API_KEY\n",
        "!export | grep DEEPL_API_KEY"
      ]
    },
    {
      "cell_type": "code",
      "execution_count": null,
      "metadata": {
        "id": "f3V6cTpYdHqQ"
      },
      "outputs": [],
      "source": [
        "#@title Upload MP3 files(용량 줄여서 업로드 MP4->MP3 : ffmpeg -i .\\input.mp4 -vn -ab 128k .\\output.mp3)\n",
        "from google.colab import files\n",
        "uploaded = files.upload()\n",
        "for fn in uploaded.keys():\n",
        "  print(fn)\n",
        "  arguments = arguments + ' ' + fn\n",
        "\n",
        "print(arguments)"
      ]
    },
    {
      "cell_type": "code",
      "execution_count": null,
      "metadata": {
        "id": "1ZZy1XEEhssV"
      },
      "outputs": [],
      "source": [
        "#@title Call subtitle-xtranslator.py(자막 추출 및 번역 실행)\n",
        "!python subtitle-xtranslator.py {arguments}"
      ]
    },
    {
      "cell_type": "code",
      "execution_count": null,
      "metadata": {},
      "outputs": [],
      "source": [
        "#@title Test Gradio app(WebUI 테스트)\n",
        "!pip install -q gradio \n",
        "!python app.py"
      ]
    }
  ],
  "metadata": {
    "accelerator": "GPU",
    "colab": {
      "gpuType": "T4",
      "provenance": []
    },
    "kernelspec": {
      "display_name": "Python 3",
      "name": "python3"
    },
    "language_info": {
      "name": "python"
    }
  },
  "nbformat": 4,
  "nbformat_minor": 0
}
